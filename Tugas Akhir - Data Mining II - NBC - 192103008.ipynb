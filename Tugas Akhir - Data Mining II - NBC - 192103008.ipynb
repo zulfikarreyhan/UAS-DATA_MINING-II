{
 "cells": [
  {
   "cell_type": "markdown",
   "id": "153c8bca",
   "metadata": {},
   "source": [
    "# Klasifikasi menggunakan naive bayes classifier pada python"
   ]
  },
  {
   "cell_type": "code",
   "execution_count": 92,
   "id": "fea445ea",
   "metadata": {},
   "outputs": [],
   "source": [
    "import math\n",
    "import random\n",
    "from collections import defaultdict\n",
    "from pprint import pprint\n",
    "\n",
    "#\n",
    "import warnings\n",
    "warnings.filterwarnings(action='ignore')\n",
    "\n",
    "import seaborn as sns\n",
    "import matplotlib.pyplot as plt\n",
    "import numpy as np\n",
    "import pandas as pd\n",
    "\n",
    "#\n",
    "sns.set_style(style='white')\n",
    "sns.set_context(context='notebook', font_scale=1.3, rc={'figure.figsize': (16,9)})"
   ]
  },
  {
   "cell_type": "code",
   "execution_count": 93,
   "id": "97b25ec0",
   "metadata": {},
   "outputs": [
    {
     "data": {
      "text/html": [
       "<div>\n",
       "<style scoped>\n",
       "    .dataframe tbody tr th:only-of-type {\n",
       "        vertical-align: middle;\n",
       "    }\n",
       "\n",
       "    .dataframe tbody tr th {\n",
       "        vertical-align: top;\n",
       "    }\n",
       "\n",
       "    .dataframe thead th {\n",
       "        text-align: right;\n",
       "    }\n",
       "</style>\n",
       "<table border=\"1\" class=\"dataframe\">\n",
       "  <thead>\n",
       "    <tr style=\"text-align: right;\">\n",
       "      <th></th>\n",
       "      <th>No</th>\n",
       "      <th>from_user</th>\n",
       "      <th>tweet</th>\n",
       "      <th>kelas</th>\n",
       "      <th>label</th>\n",
       "    </tr>\n",
       "  </thead>\n",
       "  <tbody>\n",
       "    <tr>\n",
       "      <th>0</th>\n",
       "      <td>1</td>\n",
       "      <td>MarlianaShela</td>\n",
       "      <td>raksasa drone china geram produk perang rusia ...</td>\n",
       "      <td>kontra</td>\n",
       "      <td>-1</td>\n",
       "    </tr>\n",
       "    <tr>\n",
       "      <th>1</th>\n",
       "      <td>2</td>\n",
       "      <td>tribunmedan</td>\n",
       "      <td>jenderal rusia buka buka ambisi presiden putin...</td>\n",
       "      <td>kontra</td>\n",
       "      <td>-1</td>\n",
       "    </tr>\n",
       "    <tr>\n",
       "      <th>2</th>\n",
       "      <td>3</td>\n",
       "      <td>21BeritaTerkini</td>\n",
       "      <td>perang ukraina konten palsu invasi rusia banji...</td>\n",
       "      <td>kontra</td>\n",
       "      <td>-1</td>\n",
       "    </tr>\n",
       "    <tr>\n",
       "      <th>3</th>\n",
       "      <td>4</td>\n",
       "      <td>Beritasatu</td>\n",
       "      <td>as rusia gagal capai tuju perang ukraina cozle...</td>\n",
       "      <td>kontra</td>\n",
       "      <td>-1</td>\n",
       "    </tr>\n",
       "    <tr>\n",
       "      <th>4</th>\n",
       "      <td>5</td>\n",
       "      <td>liputan6dotcom</td>\n",
       "      <td>imf ekonomi asia hadap stagflasi imbas perang ...</td>\n",
       "      <td>kontra</td>\n",
       "      <td>-1</td>\n",
       "    </tr>\n",
       "  </tbody>\n",
       "</table>\n",
       "</div>"
      ],
      "text/plain": [
       "   No        from_user                                              tweet  \\\n",
       "0   1    MarlianaShela  raksasa drone china geram produk perang rusia ...   \n",
       "1   2      tribunmedan  jenderal rusia buka buka ambisi presiden putin...   \n",
       "2   3  21BeritaTerkini  perang ukraina konten palsu invasi rusia banji...   \n",
       "3   4       Beritasatu  as rusia gagal capai tuju perang ukraina cozle...   \n",
       "4   5   liputan6dotcom  imf ekonomi asia hadap stagflasi imbas perang ...   \n",
       "\n",
       "    kelas  label  \n",
       "0  kontra     -1  \n",
       "1  kontra     -1  \n",
       "2  kontra     -1  \n",
       "3  kontra     -1  \n",
       "4  kontra     -1  "
      ]
     },
     "execution_count": 93,
     "metadata": {},
     "output_type": "execute_result"
    }
   ],
   "source": [
    "df = pd.read_excel (r'data_training_tugas_akhir.xlsx')\n",
    "df=pd.DataFrame(df)\n",
    "df.head()"
   ]
  },
  {
   "cell_type": "code",
   "execution_count": 94,
   "id": "5a5f7adb",
   "metadata": {},
   "outputs": [
    {
     "data": {
      "text/html": [
       "<div>\n",
       "<style scoped>\n",
       "    .dataframe tbody tr th:only-of-type {\n",
       "        vertical-align: middle;\n",
       "    }\n",
       "\n",
       "    .dataframe tbody tr th {\n",
       "        vertical-align: top;\n",
       "    }\n",
       "\n",
       "    .dataframe thead th {\n",
       "        text-align: right;\n",
       "    }\n",
       "</style>\n",
       "<table border=\"1\" class=\"dataframe\">\n",
       "  <thead>\n",
       "    <tr style=\"text-align: right;\">\n",
       "      <th></th>\n",
       "      <th>No</th>\n",
       "      <th>from_user</th>\n",
       "      <th>tweet</th>\n",
       "      <th>kelas</th>\n",
       "      <th>label</th>\n",
       "    </tr>\n",
       "  </thead>\n",
       "  <tbody>\n",
       "    <tr>\n",
       "      <th>0</th>\n",
       "      <td>1</td>\n",
       "      <td>MarlianaShela</td>\n",
       "      <td>raksasa drone china geram produk perang rusia ...</td>\n",
       "      <td>kontra</td>\n",
       "      <td>-1</td>\n",
       "    </tr>\n",
       "    <tr>\n",
       "      <th>1</th>\n",
       "      <td>2</td>\n",
       "      <td>tribunmedan</td>\n",
       "      <td>jenderal rusia buka buka ambisi presiden putin...</td>\n",
       "      <td>kontra</td>\n",
       "      <td>-1</td>\n",
       "    </tr>\n",
       "    <tr>\n",
       "      <th>2</th>\n",
       "      <td>3</td>\n",
       "      <td>21BeritaTerkini</td>\n",
       "      <td>perang ukraina konten palsu invasi rusia banji...</td>\n",
       "      <td>kontra</td>\n",
       "      <td>-1</td>\n",
       "    </tr>\n",
       "    <tr>\n",
       "      <th>3</th>\n",
       "      <td>4</td>\n",
       "      <td>Beritasatu</td>\n",
       "      <td>as rusia gagal capai tuju perang ukraina cozle...</td>\n",
       "      <td>kontra</td>\n",
       "      <td>-1</td>\n",
       "    </tr>\n",
       "    <tr>\n",
       "      <th>4</th>\n",
       "      <td>5</td>\n",
       "      <td>liputan6dotcom</td>\n",
       "      <td>imf ekonomi asia hadap stagflasi imbas perang ...</td>\n",
       "      <td>kontra</td>\n",
       "      <td>-1</td>\n",
       "    </tr>\n",
       "    <tr>\n",
       "      <th>...</th>\n",
       "      <td>...</td>\n",
       "      <td>...</td>\n",
       "      <td>...</td>\n",
       "      <td>...</td>\n",
       "      <td>...</td>\n",
       "    </tr>\n",
       "    <tr>\n",
       "      <th>129</th>\n",
       "      <td>130</td>\n",
       "      <td>muhamma74947158</td>\n",
       "      <td>rusia temu harta karun prajurit ukraina tewas ...</td>\n",
       "      <td>pro</td>\n",
       "      <td>1</td>\n",
       "    </tr>\n",
       "    <tr>\n",
       "      <th>130</th>\n",
       "      <td>131</td>\n",
       "      <td>iniakunketigaku</td>\n",
       "      <td>noyaliberal are highly appreciated halo guys m...</td>\n",
       "      <td>pro</td>\n",
       "      <td>1</td>\n",
       "    </tr>\n",
       "    <tr>\n",
       "      <th>131</th>\n",
       "      <td>132</td>\n",
       "      <td>Ngadrunisasi</td>\n",
       "      <td>asumsico semenjak perang rusia vs ukraina udh ...</td>\n",
       "      <td>pro</td>\n",
       "      <td>1</td>\n",
       "    </tr>\n",
       "    <tr>\n",
       "      <th>132</th>\n",
       "      <td>133</td>\n",
       "      <td>Imor_Idnaiped</td>\n",
       "      <td>agusmenghilang privetbro1 sampe rusia dukung c...</td>\n",
       "      <td>pro</td>\n",
       "      <td>1</td>\n",
       "    </tr>\n",
       "    <tr>\n",
       "      <th>133</th>\n",
       "      <td>134</td>\n",
       "      <td>sportdoctorapb</td>\n",
       "      <td>juanmahaganti here ekky adyscore s detikcom lh...</td>\n",
       "      <td>pro</td>\n",
       "      <td>1</td>\n",
       "    </tr>\n",
       "  </tbody>\n",
       "</table>\n",
       "<p>134 rows × 5 columns</p>\n",
       "</div>"
      ],
      "text/plain": [
       "      No        from_user                                              tweet  \\\n",
       "0      1    MarlianaShela  raksasa drone china geram produk perang rusia ...   \n",
       "1      2      tribunmedan  jenderal rusia buka buka ambisi presiden putin...   \n",
       "2      3  21BeritaTerkini  perang ukraina konten palsu invasi rusia banji...   \n",
       "3      4       Beritasatu  as rusia gagal capai tuju perang ukraina cozle...   \n",
       "4      5   liputan6dotcom  imf ekonomi asia hadap stagflasi imbas perang ...   \n",
       "..   ...              ...                                                ...   \n",
       "129  130  muhamma74947158  rusia temu harta karun prajurit ukraina tewas ...   \n",
       "130  131  iniakunketigaku  noyaliberal are highly appreciated halo guys m...   \n",
       "131  132     Ngadrunisasi  asumsico semenjak perang rusia vs ukraina udh ...   \n",
       "132  133    Imor_Idnaiped  agusmenghilang privetbro1 sampe rusia dukung c...   \n",
       "133  134   sportdoctorapb  juanmahaganti here ekky adyscore s detikcom lh...   \n",
       "\n",
       "      kelas  label  \n",
       "0    kontra     -1  \n",
       "1    kontra     -1  \n",
       "2    kontra     -1  \n",
       "3    kontra     -1  \n",
       "4    kontra     -1  \n",
       "..      ...    ...  \n",
       "129     pro      1  \n",
       "130     pro      1  \n",
       "131     pro      1  \n",
       "132     pro      1  \n",
       "133     pro      1  \n",
       "\n",
       "[134 rows x 5 columns]"
      ]
     },
     "execution_count": 94,
     "metadata": {},
     "output_type": "execute_result"
    }
   ],
   "source": [
    "df"
   ]
  },
  {
   "cell_type": "code",
   "execution_count": 95,
   "id": "2aa90105",
   "metadata": {},
   "outputs": [
    {
     "data": {
      "text/plain": [
       "-1    77\n",
       " 1    57\n",
       "Name: label, dtype: int64"
      ]
     },
     "execution_count": 95,
     "metadata": {},
     "output_type": "execute_result"
    }
   ],
   "source": [
    "df.label.value_counts()"
   ]
  },
  {
   "cell_type": "code",
   "execution_count": 96,
   "id": "50fa5050",
   "metadata": {},
   "outputs": [
    {
     "data": {
      "text/plain": [
       "0      raksasa drone china geram produk perang rusia ...\n",
       "1      jenderal rusia buka buka ambisi presiden putin...\n",
       "2      perang ukraina konten palsu invasi rusia banji...\n",
       "3      as rusia gagal capai tuju perang ukraina cozle...\n",
       "4      imf ekonomi asia hadap stagflasi imbas perang ...\n",
       "                             ...                        \n",
       "129    rusia temu harta karun prajurit ukraina tewas ...\n",
       "130    noyaliberal are highly appreciated halo guys m...\n",
       "131    asumsico semenjak perang rusia vs ukraina udh ...\n",
       "132    agusmenghilang privetbro1 sampe rusia dukung c...\n",
       "133    juanmahaganti here ekky adyscore s detikcom lh...\n",
       "Name: tweet, Length: 134, dtype: object"
      ]
     },
     "execution_count": 96,
     "metadata": {},
     "output_type": "execute_result"
    }
   ],
   "source": [
    "df.tweet"
   ]
  },
  {
   "cell_type": "markdown",
   "id": "0260a38b",
   "metadata": {},
   "source": [
    "# transform tweet menjadi features"
   ]
  },
  {
   "cell_type": "code",
   "execution_count": 97,
   "id": "1855ae8d",
   "metadata": {},
   "outputs": [
    {
     "data": {
      "text/plain": [
       "array([[0.        , 0.23245605, 0.23245605, 0.23245605, 0.1653944 ,\n",
       "        0.23245605, 0.23245605, 0.23245605, 0.4649121 , 0.        ,\n",
       "        0.23245605, 0.23245605, 0.23245605, 0.        , 0.23245605,\n",
       "        0.23245605, 0.23245605, 0.23245605, 0.23245605],\n",
       "       [0.53404633, 0.        , 0.        , 0.        , 0.37997836,\n",
       "        0.        , 0.        , 0.        , 0.        , 0.53404633,\n",
       "        0.        , 0.        , 0.        , 0.53404633, 0.        ,\n",
       "        0.        , 0.        , 0.        , 0.        ]])"
      ]
     },
     "execution_count": 97,
     "metadata": {},
     "output_type": "execute_result"
    }
   ],
   "source": [
    "from sklearn.feature_extraction.text import TfidfVectorizer\n",
    "\n",
    "s1=\"makin ga jelas cara kerja bpjs bagaimana negara bisa sejahtera rakyat bila kerja pakai model tambal sulam\"\n",
    "s2=\"lama amat ngurus bpjs\"\n",
    "\n",
    "vect = TfidfVectorizer()\n",
    "X = vect.fit_transform([s1, s2])\n",
    "\n",
    "X.toarray()"
   ]
  },
  {
   "cell_type": "code",
   "execution_count": 98,
   "id": "a7f39400",
   "metadata": {},
   "outputs": [
    {
     "data": {
      "text/plain": [
       "[(0.0, 'amat'),\n",
       " (0.2324560524556355, 'bagaimana'),\n",
       " (0.2324560524556355, 'bila'),\n",
       " (0.2324560524556355, 'bisa'),\n",
       " (0.16539439585841764, 'bpjs'),\n",
       " (0.2324560524556355, 'cara'),\n",
       " (0.2324560524556355, 'ga'),\n",
       " (0.2324560524556355, 'jelas'),\n",
       " (0.464912104911271, 'kerja'),\n",
       " (0.0, 'lama'),\n",
       " (0.2324560524556355, 'makin'),\n",
       " (0.2324560524556355, 'model'),\n",
       " (0.2324560524556355, 'negara'),\n",
       " (0.0, 'ngurus'),\n",
       " (0.2324560524556355, 'pakai'),\n",
       " (0.2324560524556355, 'rakyat'),\n",
       " (0.2324560524556355, 'sejahtera'),\n",
       " (0.2324560524556355, 'sulam'),\n",
       " (0.2324560524556355, 'tambal')]"
      ]
     },
     "execution_count": 98,
     "metadata": {},
     "output_type": "execute_result"
    }
   ],
   "source": [
    "list(zip(X.toarray()[0], vect.get_feature_names()))"
   ]
  },
  {
   "cell_type": "code",
   "execution_count": 99,
   "id": "850ac0aa",
   "metadata": {},
   "outputs": [
    {
     "data": {
      "text/plain": [
       "[(0.534046329052269, 'amat'),\n",
       " (0.0, 'bagaimana'),\n",
       " (0.0, 'bila'),\n",
       " (0.0, 'bisa'),\n",
       " (0.37997836159100784, 'bpjs'),\n",
       " (0.0, 'cara'),\n",
       " (0.0, 'ga'),\n",
       " (0.0, 'jelas'),\n",
       " (0.0, 'kerja'),\n",
       " (0.534046329052269, 'lama'),\n",
       " (0.0, 'makin'),\n",
       " (0.0, 'model'),\n",
       " (0.0, 'negara'),\n",
       " (0.534046329052269, 'ngurus'),\n",
       " (0.0, 'pakai'),\n",
       " (0.0, 'rakyat'),\n",
       " (0.0, 'sejahtera'),\n",
       " (0.0, 'sulam'),\n",
       " (0.0, 'tambal')]"
      ]
     },
     "execution_count": 99,
     "metadata": {},
     "output_type": "execute_result"
    }
   ],
   "source": [
    "list(zip(X.toarray()[1], vect.get_feature_names()))"
   ]
  },
  {
   "cell_type": "code",
   "execution_count": 100,
   "id": "c0ecd7d5",
   "metadata": {},
   "outputs": [
    {
     "data": {
      "text/plain": [
       "array([[0., 0., 0., ..., 0., 0., 0.],\n",
       "       [0., 0., 0., ..., 0., 0., 0.],\n",
       "       [0., 0., 0., ..., 0., 0., 0.],\n",
       "       ...,\n",
       "       [0., 0., 0., ..., 0., 0., 0.],\n",
       "       [0., 0., 0., ..., 0., 0., 0.],\n",
       "       [0., 0., 0., ..., 0., 0., 0.]])"
      ]
     },
     "execution_count": 100,
     "metadata": {},
     "output_type": "execute_result"
    }
   ],
   "source": [
    "vect= TfidfVectorizer(max_features=1000, binary=True)\n",
    "X = vect.fit_transform(df.tweet)\n",
    "\n",
    "X.toarray()"
   ]
  },
  {
   "cell_type": "markdown",
   "id": "2df151a5",
   "metadata": {},
   "source": [
    "# Membagi data training dan data test untuk menghitung akurasi model"
   ]
  },
  {
   "cell_type": "code",
   "execution_count": 101,
   "id": "eb96bfcc",
   "metadata": {},
   "outputs": [],
   "source": [
    "from sklearn.model_selection import train_test_split\n",
    "\n",
    "x=df.tweet\n",
    "y=df.label\n",
    "\n",
    "X_train, X_test, y_train, y_test = train_test_split(x,y, test_size=0.2)"
   ]
  },
  {
   "cell_type": "code",
   "execution_count": 102,
   "id": "b269eb32",
   "metadata": {},
   "outputs": [],
   "source": [
    "#from sklearn.feature_extraction.text import TfidfTransformer\n",
    "from sklearn.feature_extraction.text import TfidfVectorizer\n",
    "\n",
    "vect = TfidfVectorizer(max_features=1000, binary=True,)\n",
    "\n",
    "X_train_vect = vect.fit_transform(X_train)"
   ]
  },
  {
   "cell_type": "code",
   "execution_count": 103,
   "id": "cd7fa5ce",
   "metadata": {},
   "outputs": [],
   "source": [
    "#!pip install imblearn\n",
    "#pip intall SMOTE\n",
    "#from sklearn.model_selection import train_test_split\n",
    "from imblearn.over_sampling import SMOTE\n",
    "\n",
    "sm = SMOTE()\n",
    "\n",
    "X_train_res, y_train_res = sm.fit_resample(X_train_vect, y_train)"
   ]
  },
  {
   "cell_type": "code",
   "execution_count": 104,
   "id": "ce539ff8",
   "metadata": {},
   "outputs": [
    {
     "name": "stdout",
     "output_type": "stream",
     "text": [
      "[(-1, 59), (1, 59)]\n"
     ]
    }
   ],
   "source": [
    "unique, counts = np.unique(y_train_res, return_counts=True)\n",
    "print(list(zip(unique, counts)))"
   ]
  },
  {
   "cell_type": "markdown",
   "id": "efa27390",
   "metadata": {},
   "source": [
    "# Naive bayes classification"
   ]
  },
  {
   "cell_type": "code",
   "execution_count": 105,
   "id": "ecea7b44",
   "metadata": {},
   "outputs": [
    {
     "data": {
      "text/plain": [
       "0.9830508474576272"
      ]
     },
     "execution_count": 105,
     "metadata": {},
     "output_type": "execute_result"
    }
   ],
   "source": [
    "from sklearn.naive_bayes import MultinomialNB\n",
    "\n",
    "nb = MultinomialNB()\n",
    "\n",
    "nb.fit(X_train_res, y_train_res)\n",
    "\n",
    "nb.score(X_train_res, y_train_res)"
   ]
  },
  {
   "cell_type": "code",
   "execution_count": 106,
   "id": "d7743387",
   "metadata": {},
   "outputs": [
    {
     "data": {
      "text/plain": [
       "array([-1, -1,  1,  1,  1,  1,  1,  1, -1,  1, -1,  1, -1,  1,  1,  1, -1,\n",
       "       -1, -1, -1, -1, -1, -1,  1, -1, -1,  1], dtype=int64)"
      ]
     },
     "execution_count": 106,
     "metadata": {},
     "output_type": "execute_result"
    }
   ],
   "source": [
    "X_test_vect = vect.transform(X_test)\n",
    "\n",
    "y_pred = nb.predict(X_test_vect)\n",
    "\n",
    "y_pred"
   ]
  },
  {
   "cell_type": "code",
   "execution_count": 107,
   "id": "13a83002",
   "metadata": {},
   "outputs": [
    {
     "name": "stdout",
     "output_type": "stream",
     "text": [
      "Accuracy : 77.78%\n",
      "\n",
      "F1 Score : 78.41%\n",
      "\n",
      "Confusion Matrix : \n",
      " [[13  5]\n",
      " [ 1  8]]\n"
     ]
    }
   ],
   "source": [
    "from sklearn.metrics import accuracy_score, f1_score, confusion_matrix\n",
    "\n",
    "print(\"Accuracy : {:.2f}%\".format(accuracy_score(y_test, y_pred) * 100))\n",
    "print(\"\\nF1 Score : {:.2f}%\".format(f1_score(y_test, y_pred, average='weighted')*100))\n",
    "print(\"\\nConfusion Matrix : \\n\", confusion_matrix(y_test, y_pred))"
   ]
  },
  {
   "cell_type": "markdown",
   "id": "8d48943d",
   "metadata": {},
   "source": [
    "# proses training naive bayes classification"
   ]
  },
  {
   "cell_type": "code",
   "execution_count": 108,
   "id": "4dc7db83",
   "metadata": {},
   "outputs": [],
   "source": [
    "import os \n",
    "import pickle\n",
    "from sklearn.pipeline import Pipeline\n",
    "from sklearn.feature_extraction.text import TfidfTransformer\n",
    "\n",
    "x = df.tweet\n",
    "y = df.label\n",
    "\n",
    "text_classifier = Pipeline([('vect', TfidfVectorizer()), ('tfidf', TfidfTransformer()), ('classifier', MultinomialNB(alpha=1.0)),])\n",
    "\n",
    "X_train = np.asarray(x)\n",
    "Model_classifier_nbc = text_classifier.fit(X_train, np.asarray(y))"
   ]
  },
  {
   "cell_type": "code",
   "execution_count": 109,
   "id": "dc519f44",
   "metadata": {},
   "outputs": [],
   "source": [
    "tweet_test = ['pemerintah indonesia harus menentukan pihak mana yang di dukung',\n",
    "             'mendukung rusia untuk melawan barat dan sekutunya',\n",
    "             'rusia bikin harga pada naik aja lu perang gw yang repot',\n",
    "             'ukraina terlalu sombong melawan putin dan rusia',\n",
    "             'presiden ukraina harusnya mundur saja demi keselematan rakyar',\n",
    "             'perang ini kan demi membela tanah rusia harus nya dunia engga ikut campur',\n",
    "             'sebagai orang indonesi gw mendukung rusia buat lawan amerika si',\n",
    "             'ini perang rusia dan ukraina masalah internal amerika jangan ikut campur deh',\n",
    "              'kalo jadi ukraina nyerah aja deh sama rusia daripada lama',\n",
    "             'perang yang cuma bikin harga harga pada naik aja mereka enak udah kaya']"
   ]
  },
  {
   "cell_type": "code",
   "execution_count": 110,
   "id": "3c91c585",
   "metadata": {},
   "outputs": [
    {
     "data": {
      "text/html": [
       "<div>\n",
       "<style scoped>\n",
       "    .dataframe tbody tr th:only-of-type {\n",
       "        vertical-align: middle;\n",
       "    }\n",
       "\n",
       "    .dataframe tbody tr th {\n",
       "        vertical-align: top;\n",
       "    }\n",
       "\n",
       "    .dataframe thead th {\n",
       "        text-align: right;\n",
       "    }\n",
       "</style>\n",
       "<table border=\"1\" class=\"dataframe\">\n",
       "  <thead>\n",
       "    <tr style=\"text-align: right;\">\n",
       "      <th></th>\n",
       "      <th>0</th>\n",
       "    </tr>\n",
       "  </thead>\n",
       "  <tbody>\n",
       "    <tr>\n",
       "      <th>0</th>\n",
       "      <td>pemerintah indonesia harus menentukan pihak ma...</td>\n",
       "    </tr>\n",
       "    <tr>\n",
       "      <th>1</th>\n",
       "      <td>mendukung rusia untuk melawan barat dan sekutunya</td>\n",
       "    </tr>\n",
       "    <tr>\n",
       "      <th>2</th>\n",
       "      <td>rusia bikin harga pada naik aja lu perang gw y...</td>\n",
       "    </tr>\n",
       "    <tr>\n",
       "      <th>3</th>\n",
       "      <td>ukraina terlalu sombong melawan putin dan rusia</td>\n",
       "    </tr>\n",
       "    <tr>\n",
       "      <th>4</th>\n",
       "      <td>presiden ukraina harusnya mundur saja demi kes...</td>\n",
       "    </tr>\n",
       "    <tr>\n",
       "      <th>5</th>\n",
       "      <td>perang ini kan demi membela tanah rusia harus ...</td>\n",
       "    </tr>\n",
       "    <tr>\n",
       "      <th>6</th>\n",
       "      <td>sebagai orang indonesi gw mendukung rusia buat...</td>\n",
       "    </tr>\n",
       "    <tr>\n",
       "      <th>7</th>\n",
       "      <td>ini perang rusia dan ukraina masalah internal ...</td>\n",
       "    </tr>\n",
       "    <tr>\n",
       "      <th>8</th>\n",
       "      <td>kalo jadi ukraina nyerah aja deh sama rusia da...</td>\n",
       "    </tr>\n",
       "    <tr>\n",
       "      <th>9</th>\n",
       "      <td>perang yang cuma bikin harga harga pada naik a...</td>\n",
       "    </tr>\n",
       "  </tbody>\n",
       "</table>\n",
       "</div>"
      ],
      "text/plain": [
       "                                                   0\n",
       "0  pemerintah indonesia harus menentukan pihak ma...\n",
       "1  mendukung rusia untuk melawan barat dan sekutunya\n",
       "2  rusia bikin harga pada naik aja lu perang gw y...\n",
       "3    ukraina terlalu sombong melawan putin dan rusia\n",
       "4  presiden ukraina harusnya mundur saja demi kes...\n",
       "5  perang ini kan demi membela tanah rusia harus ...\n",
       "6  sebagai orang indonesi gw mendukung rusia buat...\n",
       "7  ini perang rusia dan ukraina masalah internal ...\n",
       "8  kalo jadi ukraina nyerah aja deh sama rusia da...\n",
       "9  perang yang cuma bikin harga harga pada naik a..."
      ]
     },
     "execution_count": 110,
     "metadata": {},
     "output_type": "execute_result"
    }
   ],
   "source": [
    "pd.DataFrame(tweet_test)"
   ]
  },
  {
   "cell_type": "code",
   "execution_count": 111,
   "id": "b290b590",
   "metadata": {},
   "outputs": [
    {
     "data": {
      "text/plain": [
       "array([ 1,  1, -1,  1, -1,  1,  1,  1,  1, -1], dtype=int64)"
      ]
     },
     "execution_count": 111,
     "metadata": {},
     "output_type": "execute_result"
    }
   ],
   "source": [
    "predicted = Model_classifier_nbc.predict(np.asarray(tweet_test))\n",
    "predicted"
   ]
  },
  {
   "cell_type": "code",
   "execution_count": 112,
   "id": "a2fb5e6d",
   "metadata": {},
   "outputs": [],
   "source": [
    "result_tweet = []\n",
    "\n",
    "for i in range(len(predicted)):\n",
    "    if(predicted[i]==1):\n",
    "        sentiment_result='PRO'\n",
    "    elif(predicted[i]==-1):\n",
    "        sentiment_result='KONTRA'\n",
    "    result_tweet.append({'tweet':tweet_test[i], 'class':predicted[i], 'result_nbc':sentiment_result})"
   ]
  },
  {
   "cell_type": "code",
   "execution_count": 113,
   "id": "f494aa62",
   "metadata": {},
   "outputs": [
    {
     "data": {
      "text/html": [
       "<div>\n",
       "<style scoped>\n",
       "    .dataframe tbody tr th:only-of-type {\n",
       "        vertical-align: middle;\n",
       "    }\n",
       "\n",
       "    .dataframe tbody tr th {\n",
       "        vertical-align: top;\n",
       "    }\n",
       "\n",
       "    .dataframe thead th {\n",
       "        text-align: right;\n",
       "    }\n",
       "</style>\n",
       "<table border=\"1\" class=\"dataframe\">\n",
       "  <thead>\n",
       "    <tr style=\"text-align: right;\">\n",
       "      <th></th>\n",
       "      <th>tweet</th>\n",
       "      <th>class</th>\n",
       "      <th>result_nbc</th>\n",
       "    </tr>\n",
       "  </thead>\n",
       "  <tbody>\n",
       "    <tr>\n",
       "      <th>0</th>\n",
       "      <td>pemerintah indonesia harus menentukan pihak ma...</td>\n",
       "      <td>1</td>\n",
       "      <td>PRO</td>\n",
       "    </tr>\n",
       "    <tr>\n",
       "      <th>1</th>\n",
       "      <td>mendukung rusia untuk melawan barat dan sekutunya</td>\n",
       "      <td>1</td>\n",
       "      <td>PRO</td>\n",
       "    </tr>\n",
       "    <tr>\n",
       "      <th>2</th>\n",
       "      <td>rusia bikin harga pada naik aja lu perang gw y...</td>\n",
       "      <td>-1</td>\n",
       "      <td>KONTRA</td>\n",
       "    </tr>\n",
       "    <tr>\n",
       "      <th>3</th>\n",
       "      <td>ukraina terlalu sombong melawan putin dan rusia</td>\n",
       "      <td>1</td>\n",
       "      <td>PRO</td>\n",
       "    </tr>\n",
       "    <tr>\n",
       "      <th>4</th>\n",
       "      <td>presiden ukraina harusnya mundur saja demi kes...</td>\n",
       "      <td>-1</td>\n",
       "      <td>KONTRA</td>\n",
       "    </tr>\n",
       "    <tr>\n",
       "      <th>5</th>\n",
       "      <td>perang ini kan demi membela tanah rusia harus ...</td>\n",
       "      <td>1</td>\n",
       "      <td>PRO</td>\n",
       "    </tr>\n",
       "    <tr>\n",
       "      <th>6</th>\n",
       "      <td>sebagai orang indonesi gw mendukung rusia buat...</td>\n",
       "      <td>1</td>\n",
       "      <td>PRO</td>\n",
       "    </tr>\n",
       "    <tr>\n",
       "      <th>7</th>\n",
       "      <td>ini perang rusia dan ukraina masalah internal ...</td>\n",
       "      <td>1</td>\n",
       "      <td>PRO</td>\n",
       "    </tr>\n",
       "    <tr>\n",
       "      <th>8</th>\n",
       "      <td>kalo jadi ukraina nyerah aja deh sama rusia da...</td>\n",
       "      <td>1</td>\n",
       "      <td>PRO</td>\n",
       "    </tr>\n",
       "    <tr>\n",
       "      <th>9</th>\n",
       "      <td>perang yang cuma bikin harga harga pada naik a...</td>\n",
       "      <td>-1</td>\n",
       "      <td>KONTRA</td>\n",
       "    </tr>\n",
       "  </tbody>\n",
       "</table>\n",
       "</div>"
      ],
      "text/plain": [
       "                                               tweet  class result_nbc\n",
       "0  pemerintah indonesia harus menentukan pihak ma...      1        PRO\n",
       "1  mendukung rusia untuk melawan barat dan sekutunya      1        PRO\n",
       "2  rusia bikin harga pada naik aja lu perang gw y...     -1     KONTRA\n",
       "3    ukraina terlalu sombong melawan putin dan rusia      1        PRO\n",
       "4  presiden ukraina harusnya mundur saja demi kes...     -1     KONTRA\n",
       "5  perang ini kan demi membela tanah rusia harus ...      1        PRO\n",
       "6  sebagai orang indonesi gw mendukung rusia buat...      1        PRO\n",
       "7  ini perang rusia dan ukraina masalah internal ...      1        PRO\n",
       "8  kalo jadi ukraina nyerah aja deh sama rusia da...      1        PRO\n",
       "9  perang yang cuma bikin harga harga pada naik a...     -1     KONTRA"
      ]
     },
     "execution_count": 113,
     "metadata": {},
     "output_type": "execute_result"
    }
   ],
   "source": [
    "data=pd.DataFrame(result_tweet)\n",
    "data"
   ]
  },
  {
   "cell_type": "code",
   "execution_count": null,
   "id": "8262a58d",
   "metadata": {},
   "outputs": [],
   "source": []
  }
 ],
 "metadata": {
  "kernelspec": {
   "display_name": "Python 3",
   "language": "python",
   "name": "python3"
  },
  "language_info": {
   "codemirror_mode": {
    "name": "ipython",
    "version": 3
   },
   "file_extension": ".py",
   "mimetype": "text/x-python",
   "name": "python",
   "nbconvert_exporter": "python",
   "pygments_lexer": "ipython3",
   "version": "3.9.4"
  }
 },
 "nbformat": 4,
 "nbformat_minor": 5
}
