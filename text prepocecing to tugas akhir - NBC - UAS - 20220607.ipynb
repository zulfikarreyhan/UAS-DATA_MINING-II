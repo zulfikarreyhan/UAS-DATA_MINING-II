{
 "cells": [
  {
   "cell_type": "code",
   "execution_count": 1,
   "id": "68cd80e2",
   "metadata": {},
   "outputs": [
    {
     "name": "stderr",
     "output_type": "stream",
     "text": [
      "[nltk_data] Downloading package stopwords to\n",
      "[nltk_data]     C:\\Users\\ACER\\AppData\\Roaming\\nltk_data...\n",
      "[nltk_data]   Package stopwords is already up-to-date!\n",
      "[nltk_data] Downloading package wordnet to\n",
      "[nltk_data]     C:\\Users\\ACER\\AppData\\Roaming\\nltk_data...\n",
      "[nltk_data]   Package wordnet is already up-to-date!\n"
     ]
    }
   ],
   "source": [
    "import pandas as pd\n",
    "import numpy as np\n",
    "from nltk.corpus import stopwords\n",
    "import re\n",
    "import nltk\n",
    "nltk.download('stopwords')\n",
    "nltk.download('wordnet')\n",
    "from nltk.stem import PorterStemmer\n",
    "from nltk.stem import LancasterStemmer\n",
    "from Sastrawi.Stemmer.StemmerFactory import StemmerFactory"
   ]
  },
  {
   "cell_type": "code",
   "execution_count": 2,
   "id": "a4b7ce9b",
   "metadata": {
    "scrolled": true
   },
   "outputs": [
    {
     "data": {
      "text/html": [
       "<div>\n",
       "<style scoped>\n",
       "    .dataframe tbody tr th:only-of-type {\n",
       "        vertical-align: middle;\n",
       "    }\n",
       "\n",
       "    .dataframe tbody tr th {\n",
       "        vertical-align: top;\n",
       "    }\n",
       "\n",
       "    .dataframe thead th {\n",
       "        text-align: right;\n",
       "    }\n",
       "</style>\n",
       "<table border=\"1\" class=\"dataframe\">\n",
       "  <thead>\n",
       "    <tr style=\"text-align: right;\">\n",
       "      <th></th>\n",
       "      <th>No</th>\n",
       "      <th>from_user</th>\n",
       "      <th>text</th>\n",
       "      <th>kelas</th>\n",
       "      <th>label</th>\n",
       "    </tr>\n",
       "  </thead>\n",
       "  <tbody>\n",
       "    <tr>\n",
       "      <th>0</th>\n",
       "      <td>1</td>\n",
       "      <td>voaindonesia</td>\n",
       "      <td>negara negara kawasan asia senang serang alas ...</td>\n",
       "      <td>kontra</td>\n",
       "      <td>-1</td>\n",
       "    </tr>\n",
       "    <tr>\n",
       "      <th>1</th>\n",
       "      <td>2</td>\n",
       "      <td>dobbybunni</td>\n",
       "      <td>blackwafferroll jeonqjaehyvn 2cool4skuy jntexp...</td>\n",
       "      <td>pro</td>\n",
       "      <td>1</td>\n",
       "    </tr>\n",
       "    <tr>\n",
       "      <th>2</th>\n",
       "      <td>3</td>\n",
       "      <td>DoniMardani_</td>\n",
       "      <td>puan kondisi global akibat perang rusia ukrain...</td>\n",
       "      <td>kontra</td>\n",
       "      <td>-1</td>\n",
       "    </tr>\n",
       "    <tr>\n",
       "      <th>3</th>\n",
       "      <td>4</td>\n",
       "      <td>DoniMardani_</td>\n",
       "      <td>ketua dpr ri puan maharani perintah antisipasi...</td>\n",
       "      <td>kontra</td>\n",
       "      <td>-1</td>\n",
       "    </tr>\n",
       "    <tr>\n",
       "      <th>4</th>\n",
       "      <td>5</td>\n",
       "      <td>KemotThe</td>\n",
       "      <td>putinmoskva1 ekonomi rusia stabil kuat tingkat...</td>\n",
       "      <td>kontra</td>\n",
       "      <td>-1</td>\n",
       "    </tr>\n",
       "  </tbody>\n",
       "</table>\n",
       "</div>"
      ],
      "text/plain": [
       "   No     from_user                                               text  \\\n",
       "0   1  voaindonesia  negara negara kawasan asia senang serang alas ...   \n",
       "1   2    dobbybunni  blackwafferroll jeonqjaehyvn 2cool4skuy jntexp...   \n",
       "2   3  DoniMardani_  puan kondisi global akibat perang rusia ukrain...   \n",
       "3   4  DoniMardani_  ketua dpr ri puan maharani perintah antisipasi...   \n",
       "4   5      KemotThe  putinmoskva1 ekonomi rusia stabil kuat tingkat...   \n",
       "\n",
       "    kelas  label  \n",
       "0  kontra     -1  \n",
       "1     pro      1  \n",
       "2  kontra     -1  \n",
       "3  kontra     -1  \n",
       "4  kontra     -1  "
      ]
     },
     "execution_count": 2,
     "metadata": {},
     "output_type": "execute_result"
    }
   ],
   "source": [
    "df = pd.read_excel('data_training_nbc_pix.xlsx', header=0)\n",
    "df.head()"
   ]
  },
  {
   "cell_type": "code",
   "execution_count": 3,
   "id": "8c356944",
   "metadata": {},
   "outputs": [
    {
     "data": {
      "text/html": [
       "<div>\n",
       "<style scoped>\n",
       "    .dataframe tbody tr th:only-of-type {\n",
       "        vertical-align: middle;\n",
       "    }\n",
       "\n",
       "    .dataframe tbody tr th {\n",
       "        vertical-align: top;\n",
       "    }\n",
       "\n",
       "    .dataframe thead th {\n",
       "        text-align: right;\n",
       "    }\n",
       "</style>\n",
       "<table border=\"1\" class=\"dataframe\">\n",
       "  <thead>\n",
       "    <tr style=\"text-align: right;\">\n",
       "      <th></th>\n",
       "      <th>lwr</th>\n",
       "    </tr>\n",
       "  </thead>\n",
       "  <tbody>\n",
       "    <tr>\n",
       "      <th>0</th>\n",
       "      <td>negara negara kawasan asia senang serang alas ...</td>\n",
       "    </tr>\n",
       "    <tr>\n",
       "      <th>1</th>\n",
       "      <td>blackwafferroll jeonqjaehyvn 2cool4skuy jntexp...</td>\n",
       "    </tr>\n",
       "    <tr>\n",
       "      <th>2</th>\n",
       "      <td>puan kondisi global akibat perang rusia ukrain...</td>\n",
       "    </tr>\n",
       "    <tr>\n",
       "      <th>3</th>\n",
       "      <td>ketua dpr ri puan maharani perintah antisipasi...</td>\n",
       "    </tr>\n",
       "    <tr>\n",
       "      <th>4</th>\n",
       "      <td>putinmoskva1 ekonomi rusia stabil kuat tingkat...</td>\n",
       "    </tr>\n",
       "    <tr>\n",
       "      <th>...</th>\n",
       "      <td>...</td>\n",
       "    </tr>\n",
       "    <tr>\n",
       "      <th>583</th>\n",
       "      <td>bunda rose15 rangsundatea agussup39011241 yrad...</td>\n",
       "    </tr>\n",
       "    <tr>\n",
       "      <th>584</th>\n",
       "      <td>juanmahaganti adyscore s detikcom bang serius ...</td>\n",
       "    </tr>\n",
       "    <tr>\n",
       "      <th>585</th>\n",
       "      <td>perang gila rusia duduk 42 kota desa ukraina t...</td>\n",
       "    </tr>\n",
       "    <tr>\n",
       "      <th>586</th>\n",
       "      <td>softwarnews ukraina usd 7 miliar rekonstruksi ...</td>\n",
       "    </tr>\n",
       "    <tr>\n",
       "      <th>587</th>\n",
       "      <td>stevaniehuangg nilai kurs negara gantung perca...</td>\n",
       "    </tr>\n",
       "  </tbody>\n",
       "</table>\n",
       "<p>588 rows × 1 columns</p>\n",
       "</div>"
      ],
      "text/plain": [
       "                                                   lwr\n",
       "0    negara negara kawasan asia senang serang alas ...\n",
       "1    blackwafferroll jeonqjaehyvn 2cool4skuy jntexp...\n",
       "2    puan kondisi global akibat perang rusia ukrain...\n",
       "3    ketua dpr ri puan maharani perintah antisipasi...\n",
       "4    putinmoskva1 ekonomi rusia stabil kuat tingkat...\n",
       "..                                                 ...\n",
       "583  bunda rose15 rangsundatea agussup39011241 yrad...\n",
       "584  juanmahaganti adyscore s detikcom bang serius ...\n",
       "585  perang gila rusia duduk 42 kota desa ukraina t...\n",
       "586  softwarnews ukraina usd 7 miliar rekonstruksi ...\n",
       "587  stevaniehuangg nilai kurs negara gantung perca...\n",
       "\n",
       "[588 rows x 1 columns]"
      ]
     },
     "execution_count": 3,
     "metadata": {},
     "output_type": "execute_result"
    }
   ],
   "source": [
    "def clean_lower(lwr):\n",
    "    lwr = lwr.lower()\n",
    "    return lwr\n",
    "\n",
    "df['lwr'] = df['text'].apply(clean_lower)\n",
    "casefolding = pd.DataFrame(df['lwr'])\n",
    "casefolding"
   ]
  },
  {
   "cell_type": "code",
   "execution_count": 4,
   "id": "cbf3fb07",
   "metadata": {},
   "outputs": [
    {
     "data": {
      "text/plain": [
       "0      negara negara kawasan asia senang serang alas ...\n",
       "1      blackwafferroll jeonqjaehyvn 2cool4skuy jntexp...\n",
       "2      puan kondisi global akibat perang rusia ukrain...\n",
       "3      ketua dpr ri puan maharani perintah antisipasi...\n",
       "4      putinmoskva1 ekonomi rusia stabil kuat tingkat...\n",
       "                             ...                        \n",
       "583    bunda rose15 rangsundatea agussup39011241 yrad...\n",
       "584    juanmahaganti adyscore s detikcom bang serius ...\n",
       "585    perang gila rusia duduk 42 kota desa ukraina t...\n",
       "586    softwarnews ukraina usd 7 miliar rekonstruksi ...\n",
       "587    stevaniehuangg nilai kurs negara gantung perca...\n",
       "Name: clean_punct, Length: 588, dtype: object"
      ]
     },
     "execution_count": 4,
     "metadata": {},
     "output_type": "execute_result"
    }
   ],
   "source": [
    "#Remove Puncutuation\n",
    "clean_spcl = re.compile('[/(){}\\[\\]\\|,;]')\n",
    "clean_symbol = re.compile('[^0-9a-z]')\n",
    "def clean_punct(text):\n",
    "    text = clean_spcl.sub('', text)\n",
    "    text = clean_symbol.sub(' ', text)\n",
    "    return text# Buat kolom tambahan untuk data description yang telah diremovepunctuation   \n",
    "df['clean_punct'] = df['lwr'].apply(clean_punct)\n",
    "df['clean_punct']"
   ]
  },
  {
   "cell_type": "code",
   "execution_count": 5,
   "id": "20a389d8",
   "metadata": {
    "scrolled": true
   },
   "outputs": [
    {
     "data": {
      "text/plain": [
       "0      negara negara kawasan asia senang serang alas ...\n",
       "1      blackwafferroll jeonqjaehyvn 2cool4skuy jntexp...\n",
       "2      puan kondisi global akibat perang rusia ukrain...\n",
       "3      ketua dpr ri puan maharani perintah antisipasi...\n",
       "4      putinmoskva1 ekonomi rusia stabil kuat tingkat...\n",
       "                             ...                        \n",
       "583    bunda rose15 rangsundatea agussup39011241 yrad...\n",
       "584    juanmahaganti adyscore s detikcom bang serius ...\n",
       "585    perang gila rusia duduk 42 kota desa ukraina t...\n",
       "586    softwarnews ukraina usd 7 miliar rekonstruksi ...\n",
       "587    stevaniehuangg nilai kurs negara gantung perca...\n",
       "Name: clean_double_ws, Length: 588, dtype: object"
      ]
     },
     "execution_count": 5,
     "metadata": {},
     "output_type": "execute_result"
    }
   ],
   "source": [
    "def _normalize_whitespace(text):\n",
    "    corrected = str(text)\n",
    "    corrected = re.sub(r\"//t\",r\"\\t\", corrected)\n",
    "    corrected = re.sub(r\"( )\\1+\",r\"\\1\", corrected)\n",
    "    corrected = re.sub(r\"(\\n)\\1+\",r\"\\1\", corrected)\n",
    "    corrected = re.sub(r\"(\\r)\\1+\",r\"\\1\", corrected)\n",
    "    corrected = re.sub(r\"(\\t)\\1+\",r\"\\1\", corrected)\n",
    "    return corrected.strip(\" \")\n",
    "df['clean_double_ws'] = df['clean_punct'].apply(_normalize_whitespace)\n",
    "df['clean_double_ws']"
   ]
  },
  {
   "cell_type": "code",
   "execution_count": 6,
   "id": "749c0227",
   "metadata": {
    "scrolled": true
   },
   "outputs": [
    {
     "data": {
      "text/plain": [
       "0      negara negara kawasan asia senang serang alas ...\n",
       "1      blackwafferroll jeonqjaehyvn 2cool4skuy jntexp...\n",
       "2      puan kondisi global akibat perang rusia ukrain...\n",
       "3      ketua dpr ri puan maharani perintah antisipasi...\n",
       "4      putinmoskva1 ekonomi rusia stabil kuat tingkat...\n",
       "                             ...                        \n",
       "583    bunda rose15 rangsundatea agussup39011241 yrad...\n",
       "584    juanmahaganti adyscore s detikcom bang serius ...\n",
       "585    perang gila rusia duduk 42 kota desa ukraina t...\n",
       "586    softwarnews ukraina usd 7 miliar rekonstruksi ...\n",
       "587    stevaniehuangg nilai kurs negara gantung perca...\n",
       "Name: clean_sw, Length: 588, dtype: object"
      ]
     },
     "execution_count": 6,
     "metadata": {},
     "output_type": "execute_result"
    }
   ],
   "source": [
    "list_stopwords = stopwords.words('indonesian')\n",
    "\n",
    "\n",
    "# ---------------------------- manualy add stopword  ------------------------------------\n",
    "# append additional stopword\n",
    "list_stopwords.extend([\"yg\", \"dg\", \"rt\", \"dgn\", \"ny\", \"d\", 'klo', \n",
    "                       'kalo', 'amp', 'biar', 'bikin', 'bilang', \n",
    "                       'gak', 'ga', 'krn', 'nya', 'nih', 'sih', \n",
    "                       'si', 'tau', 'tdk', 'tuh', 'utk', 'ya', \n",
    "                       'jd', 'jgn', 'sdh', 'aja', 'n', 't', \n",
    "                       'nyg', 'hehe', 'pen', 'u', 'nan', 'loh', 'rt',\n",
    "                       '&amp', 'yah', 'https'])\n",
    "\n",
    "# ----------------------- add stopword from txt file ------------------------------------\n",
    "# read txt stopword using pandas\n",
    "#txt_stopword = pd.read_csv(\"stopwords.txt\", names= [\"stopwords\"], header = None)\n",
    "\n",
    "# convert stopword string to list & append additional stopword\n",
    "#list_stopwords.extend(txt_stopword[\"stopwords\"][0].split(' '))\n",
    "\n",
    "# ---------------------------------------------------------------------------------------\n",
    "\n",
    "# convert list to dictionary\n",
    "list_stopwords = set(list_stopwords)\n",
    "\n",
    "\n",
    "#remove stopword pada list token\n",
    "#def stopwords_removal(words):\n",
    " #   return [word for word in words if word not in list_stopwords]\n",
    "\n",
    "def clean_stopwords(text):\n",
    "    text = ' '.join(word for word in text.split() if word not in list_stopwords) # hapus stopword dari kolom deskripsi\n",
    "    return text# Buat kolom tambahan untuk data description yang telah distopwordsremoval   \n",
    "\n",
    "df['clean_sw'] = df['clean_double_ws'].apply(clean_stopwords)\n",
    "df['clean_sw']"
   ]
  },
  {
   "cell_type": "code",
   "execution_count": 7,
   "id": "d0cd2850",
   "metadata": {},
   "outputs": [
    {
     "data": {
      "text/plain": [
       "0      negara negara kawasan asia senang serang alas ...\n",
       "1      blackwafferroll jeonqjaehyvn 2cool4skuy jntexp...\n",
       "2      puan kondisi global akibat perang rusia ukrain...\n",
       "3      ketua dpr ri puan maharani perintah antisipasi...\n",
       "4      putinmoskva1 ekonomi rusia stabil kuat tingkat...\n",
       "                             ...                        \n",
       "583    bunda rose15 rangsundatea agussup39011241 yrad...\n",
       "584    juanmahaganti adyscore s detikcom bang serius ...\n",
       "585    perang gila rusia duduk 42 kota desa ukraina t...\n",
       "586    softwarnews ukraina usd 7 miliar rekonstruksi ...\n",
       "587    stevaniehuangg nilai kurs negara gantung perca...\n",
       "Name: sudah_bersih, Length: 588, dtype: object"
      ]
     },
     "execution_count": 7,
     "metadata": {},
     "output_type": "execute_result"
    }
   ],
   "source": [
    "factory = StemmerFactory()\n",
    "stemmer = factory.create_stemmer()\n",
    "\n",
    "df['sudah_bersih'] = df['clean_sw'].apply(stemmer.stem)\n",
    "df['sudah_bersih']"
   ]
  },
  {
   "cell_type": "code",
   "execution_count": 8,
   "id": "266e4286",
   "metadata": {},
   "outputs": [],
   "source": [
    "df.to_excel(\"token nbc tugas akhir.xlsx\")"
   ]
  },
  {
   "cell_type": "code",
   "execution_count": null,
   "id": "e23e0cd0",
   "metadata": {},
   "outputs": [],
   "source": []
  }
 ],
 "metadata": {
  "kernelspec": {
   "display_name": "Python 3",
   "language": "python",
   "name": "python3"
  },
  "language_info": {
   "codemirror_mode": {
    "name": "ipython",
    "version": 3
   },
   "file_extension": ".py",
   "mimetype": "text/x-python",
   "name": "python",
   "nbconvert_exporter": "python",
   "pygments_lexer": "ipython3",
   "version": "3.9.4"
  }
 },
 "nbformat": 4,
 "nbformat_minor": 5
}
